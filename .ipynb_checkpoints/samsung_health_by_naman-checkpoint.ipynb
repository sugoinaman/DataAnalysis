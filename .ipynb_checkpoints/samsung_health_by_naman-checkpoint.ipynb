{
 "cells": [
  {
   "cell_type": "code",
   "execution_count": 1,
   "id": "ce7994fe",
   "metadata": {},
   "outputs": [],
   "source": [
    "import pandas as pd"
   ]
  },
  {
   "cell_type": "code",
   "execution_count": 1,
   "id": "b3e58f5a",
   "metadata": {},
   "outputs": [
    {
     "ename": "SyntaxError",
     "evalue": "(unicode error) 'unicodeescape' codec can't decode bytes in position 3-4: truncated \\UXXXXXXXX escape (4085968860.py, line 3)",
     "output_type": "error",
     "traceback": [
      "\u001b[1;36m  Cell \u001b[1;32mIn[1], line 3\u001b[1;36m\u001b[0m\n\u001b[1;33m    pedometer=pd.read_csv('\"C:\\Users\\Birendra Kumar\\Documents\\GitHub\\samsung_health_visualisation_by_me\\samsunghealth_jhanaman571_20230503235481\\com.samsung.shealth.tracker.pedometer_day_summary.20230503235481.csv\"')\u001b[0m\n\u001b[1;37m                                                                                                                                                                                                                       ^\u001b[0m\n\u001b[1;31mSyntaxError\u001b[0m\u001b[1;31m:\u001b[0m (unicode error) 'unicodeescape' codec can't decode bytes in position 3-4: truncated \\UXXXXXXXX escape\n"
     ]
    }
   ],
   "source": [
    "#pedometer=pd.read_csv('/Users/ananya/Documents/GitHub/Samsung_Health_revamp/naman_samsung/samsunghealth_jhanaman571_20230503235481/com.samsung.shealth.tracker.pedometer_day_summary.20230503235481.csv',skiprows=1,index_col=False)\n",
    "#skip rows is 0 indexed, to skip more rows do skiprows=[1.2,3] etc.\n",
    "pedometer=pd.read_csv('\"C:\\Users\\Birendra Kumar\\Documents\\GitHub\\samsung_health_visualisation_by_me\\samsunghealth_jhanaman571_20230503235481\\com.samsung.shealth.tracker.pedometer_day_summary.20230503235481.csv',skiprows=1,index_c)"
   ]
  },
  {
   "cell_type": "code",
   "execution_count": 10,
   "id": "86289cf8",
   "metadata": {},
   "outputs": [
    {
     "data": {
      "text/plain": [
       "0      75b1d727-9b7b-4d0d-8e75-8490923719e4.achieveme...\n",
       "1      eb1d548d-47bb-4264-aa11-4816bdbc6aca.achieveme...\n",
       "2      1e9516a6-5bb9-4c11-be9f-e940cfcc4e72.achieveme...\n",
       "3      ac31f06e-45e3-4d20-83b4-9329fc7950e8.achieveme...\n",
       "4      0618fab2-eb55-486a-bbb0-534c8fa69edb.achieveme...\n",
       "                             ...                        \n",
       "196    0e666b25-1355-425b-8cae-1a4ccaac3575.achieveme...\n",
       "197    c939d69d-af07-4675-b7d5-8bcec50f23c0.achieveme...\n",
       "198    1f6c4a9b-0aae-4fc4-83bb-016f17832ee8.achieveme...\n",
       "199    37bbc87e-e1eb-4376-802b-97fe4740cec8.achieveme...\n",
       "200    d273a90c-63ef-477a-9320-6e7008b1c432.achieveme...\n",
       "Name: achievement, Length: 201, dtype: object"
      ]
     },
     "execution_count": 10,
     "metadata": {},
     "output_type": "execute_result"
    }
   ],
   "source": [
    "pedometer.achievement"
   ]
  },
  {
   "cell_type": "code",
   "execution_count": null,
   "id": "be2f7204",
   "metadata": {},
   "outputs": [],
   "source": []
  }
 ],
 "metadata": {
  "kernelspec": {
   "display_name": "Python 3 (ipykernel)",
   "language": "python",
   "name": "python3"
  },
  "language_info": {
   "codemirror_mode": {
    "name": "ipython",
    "version": 3
   },
   "file_extension": ".py",
   "mimetype": "text/x-python",
   "name": "python",
   "nbconvert_exporter": "python",
   "pygments_lexer": "ipython3",
   "version": "3.10.9"
  }
 },
 "nbformat": 4,
 "nbformat_minor": 5
}
